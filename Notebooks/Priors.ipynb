{
 "cells": [
  {
   "cell_type": "markdown",
   "metadata": {},
   "source": [
    "# Priors\n",
    "We will produce different distributions which will be further used to pose arbitrary priors on the latent variable of an Adversarial Autoencoder."
   ]
  },
  {
   "cell_type": "code",
   "execution_count": 1,
   "metadata": {
    "collapsed": true
   },
   "outputs": [],
   "source": [
    "import numpy as np\n",
    "import matplotlib.pyplot as plt\n",
    "from sklearn.decomposition import PCA"
   ]
  },
  {
   "cell_type": "code",
   "execution_count": 2,
   "metadata": {
    "code_folding": [
     14,
     33,
     47,
     65,
     69
    ],
    "scrolled": false
   },
   "outputs": [
    {
     "data": {
      "image/png": "[encoded data removed]",
      "text/plain": [
       "<matplotlib.figure.Figure at 0x17b02dd5710>"
      ]
     },
     "metadata": {},
     "output_type": "display_data"
    }
   ],
   "source": [
    "def plot_latent_variable(data, labels):\n",
    "    if data.shape[1] != 2:\n",
    "        pca = PCA(n_components=2)\n",
    "        data = pca.fit_transform(data)\n",
    "        print(pca.explained_variance_ratio_)\n",
    "    plt.figure(figsize=(8, 8))\n",
    "    plt.axes().set_aspect('equal')\n",
    "    color = plt.cm.rainbow(np.linspace(0, 1, 10))\n",
    "    for l, c in enumerate(color):\n",
    "        idxs = np.where(labels==l)\n",
    "        plt.scatter(data[idxs, 0], data[idxs, 1], c=c, label=l, linewidth=0, s=8)\n",
    "    plt.legend()\n",
    "    plt.show()\n",
    "    \n",
    "def uniform(batch_size, labels, n_labels=10):\n",
    "    minv=-2; maxv=2\n",
    "    num = int(np.ceil(np.sqrt(n_labels)))\n",
    "    size = (maxv-minv)*1.0/num\n",
    "    print(num, size)\n",
    "\n",
    "    def sample(label):\n",
    "        x, y = np.random.uniform(-size/2, size/2, (2,))\n",
    "        i = label // num\n",
    "        j = label % num\n",
    "        x = x + j*size+minv+0.5*size\n",
    "        y = y + i*size+minv+0.5*size\n",
    "        return np.array([x, y]).reshape((2,))\n",
    "\n",
    "    z = np.empty((batch_size, 2), dtype=np.float32)\n",
    "    for idx in np.arange(batch_size):\n",
    "        z[idx] = sample(labels[idx])\n",
    "    return z\n",
    "\n",
    "def swiss_roll(batch_size, labels, n_labels=10):\n",
    "    def sample(label):\n",
    "        rnd_num = np.random.uniform(0.0, 1.0) / n_labels + label / n_labels\n",
    "        r = np.sqrt(rnd_num) * 3.0\n",
    "        rad = np.pi * 4.0 * np.sqrt(rnd_num)\n",
    "        x = r * np.cos(rad)\n",
    "        y = r * np.sin(rad)\n",
    "        return np.array([x, y]).reshape((2,))\n",
    "\n",
    "    z = np.zeros((batch_size, 2), dtype=np.float32)\n",
    "    for idx in np.arange(batch_size):\n",
    "        z[idx] = sample(labels[idx])\n",
    "    return z\n",
    "\n",
    "def gaussian_mixture(batch_size, labels, n_labels=10):\n",
    "    x_var=0.5; y_var=0.1\n",
    "    def sample(x, y, label):\n",
    "        shift = 1.4\n",
    "        r = 2.0 * np.pi / float(n_labels) * float(label)\n",
    "        new_x = x * np.cos(r) - y * np.sin(r)\n",
    "        new_y = x * np.sin(r) + y * np.cos(r)\n",
    "        new_x += shift * np.cos(r)\n",
    "        new_y += shift * np.sin(r)\n",
    "        return np.array([new_x, new_y]).reshape((2,))\n",
    "\n",
    "    x = np.random.normal(0, x_var, (batch_size))\n",
    "    y = np.random.normal(0, y_var, (batch_size))\n",
    "    z = np.empty((batch_size, 2), dtype=np.float32)\n",
    "    for idx in np.arange(batch_size):\n",
    "        z[idx] = sample(x[idx], y[idx], labels[idx])\n",
    "    return z\n",
    "\n",
    "def gaussian(batch_size, n_dim):\n",
    "    z = np.random.normal(0., 1., (batch_size, n_dim)).astype(np.float32)\n",
    "    return z\n",
    "\n",
    "def circle(batch_size, labels, n_labels=10):\n",
    "    r = 2\n",
    "    def sample(label):\n",
    "        start = label*360./n_labels\n",
    "        end = start + 360./n_labels\n",
    "        rnd_deg = np.random.uniform(start, end)\n",
    "\n",
    "        angle = np.deg2rad(rnd_deg)\n",
    "        x = r * np.cos(angle)\n",
    "        y = r * np.sin(angle)\n",
    "        return np.array([x, y]).reshape((2,))\n",
    "\n",
    "    z = np.zeros((batch_size, 2), dtype=np.float32)\n",
    "    for idx in np.arange(batch_size):\n",
    "        z[idx] = sample(labels[idx])\n",
    "    return z\n",
    "\n",
    "class density_func():\n",
    "    def __init__(self, batch_size, prior_type='uniform', n_dim=2, n_labels=10):\n",
    "        self.batch_size = batch_size\n",
    "        self.n_dim = n_dim\n",
    "        self.n_labels = n_labels\n",
    "        self.prior_type = prior_type\n",
    "\n",
    "    def sample(self, labels = None):\n",
    "        if labels is None: labels = np.random.randint(low = 0, high=self.n_labels, size=[self.batch_size])\n",
    "        \n",
    "        if self.prior_type == 'uniform':\n",
    "            data =  uniform(self.batch_size, labels, n_labels=self.n_labels)\n",
    "        elif self.prior_type == 'swiss_roll':\n",
    "            data = swiss_roll(self.batch_size, labels, n_labels=self.n_labels)\n",
    "        elif self.prior_type == 'circle':\n",
    "            data = circle(self.batch_size, labels, n_labels=self.n_labels)\n",
    "        elif self.prior_type == 'gaussian_mixture':\n",
    "            data = gaussian_mixture(self.batch_size, labels, n_labels=self.n_labels)\n",
    "        elif self.prior_type == 'gaussian':\n",
    "            data = gaussian(self.batch_size, self.n_dim)\n",
    "        elif self.prior_type == 'categorical':\n",
    "            data = np.zeros((self.batch_size, self.n_labels), dtype=np.float32)\n",
    "            for i in np.arange(self.batch_size):\n",
    "                data[i, labels[i]] = 1\n",
    "        else: raise ValueError('Distribution %s is not Implemented.'%self.prior_type)\n",
    "            \n",
    "        return data, labels\n",
    "    \n",
    "Z = density_func(10000, 'circle')\n",
    "data, labels = Z.sample()\n",
    "plot_latent_variable(data,labels)"
   ]
  }
 ],
 "metadata": {
  "anaconda-cloud": {},
  "kernelspec": {
   "display_name": "Python [conda root]",
   "language": "python",
   "name": "conda-root-py"
  },
  "language_info": {
   "codemirror_mode": {
    "name": "ipython",
    "version": 3
   },
   "file_extension": ".py",
   "mimetype": "text/x-python",
   "name": "python",
   "nbconvert_exporter": "python",
   "pygments_lexer": "ipython3",
   "version": "3.5.3"
  },
  "varInspector": {
   "cols": {
    "lenName": 16,
    "lenType": 16,
    "lenVar": 40
   },
   "kernels_config": {
    "python": {
     "delete_cmd_postfix": "",
     "delete_cmd_prefix": "del ",
     "library": "var_list.py",
     "varRefreshCmd": "print(var_dic_list())"
    },
    "r": {
     "delete_cmd_postfix": ") ",
     "delete_cmd_prefix": "rm(",
     "library": "var_list.r",
     "varRefreshCmd": "cat(var_dic_list()) "
    }
   },
   "types_to_exclude": [
    "module",
    "function",
    "builtin_function_or_method",
    "instance",
    "_Feature"
   ],
   "window_display": false
  }
 },
 "nbformat": 4,
 "nbformat_minor": 2
}
