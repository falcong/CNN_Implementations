{
 "cells": [
  {
   "cell_type": "markdown",
   "metadata": {},
   "source": [
    "# Conditional VAEs\n",
    "*\"We show that deep generative models and approximate Bayesian inference exploiting recent advances in variational methods can be used to provide significant improvements, making generative approaches highly competitive for semi-supervised learning.\"*\n",
    "[Semi-Supervised Learning with Deep Generative Models](https://arxiv.org/abs/1406.5298). Kingma et al 2014.\n",
    "\n",
    "This work is absolutely not an effort to reproduce results of the cited paper, nor I confine my Implementations to suggestion of the original authors. I have tried to Implement my own limited understanding of the original paper in hope to get better insight about their work. Use this code with no warranty and please respect the accompanying license."
   ]
  },
  {
   "cell_type": "code",
   "execution_count": 1,
   "metadata": {
    "collapsed": true
   },
   "outputs": [],
   "source": [
    "# Imports\n",
    "%reload_ext autoreload\n",
    "%autoreload 1\n",
    "\n",
    "import os, sys\n",
    "sys.path.append('../')\n",
    "sys.path.append('../common')\n",
    "\n",
    "from tools_general import tf, np\n",
    "from IPython.display import Image\n",
    "from tools_train import get_train_params, OneHot, vis_square\n",
    "from tools_config import data_dir\n",
    "from tools_train import get_train_params\n",
    "import matplotlib.pyplot as plt\n",
    "import imageio"
   ]
  },
  {
   "cell_type": "code",
   "execution_count": 2,
   "metadata": {
    "collapsed": true
   },
   "outputs": [],
   "source": [
    "# define parameters\n",
    "networktype = 'cVAE_MNIST'\n",
    "\n",
    "work_dir = '../trained_models/%s/' %networktype\n",
    "if not os.path.exists(work_dir): os.makedirs(work_dir)"
   ]
  },
  {
   "cell_type": "markdown",
   "metadata": {},
   "source": [
    "## Network definitions"
   ]
  },
  {
   "cell_type": "code",
   "execution_count": 3,
   "metadata": {
    "collapsed": true
   },
   "outputs": [],
   "source": [
    "# define networks\n",
    "from tools_networks import deconv, conv, dense, clipped_crossentropy, dropout\n",
    "\n",
    "def concat_labels(X, labels):\n",
    "    if X.get_shape().ndims == 4:\n",
    "        X_shape = tf.shape(X)\n",
    "        labels_reshaped = tf.reshape(labels, [-1, 1, 1, 10])\n",
    "        a = tf.ones([X_shape[0], X_shape[1], X_shape[2], 10])\n",
    "        X = tf.concat([X, labels_reshaped * a], axis=3)\n",
    "    return X\n",
    "\n",
    "def create_VAE_E(Xin, labels, is_training, Cout=1, trainable=True, reuse=False, networktype='vaeE'):\n",
    "    '''Xin: batchsize * H * W * Cin\n",
    "       labels: batchsize * num_classes\n",
    "       output1-2: batchsize * Cout'''\n",
    "    \n",
    "    with tf.variable_scope(networktype, reuse=reuse):\n",
    "        \n",
    "        Xin = concat_labels(Xin, labels)\n",
    "        \n",
    "        Eout = conv(Xin, is_training, kernel_w=4, stride=2, Cout=64, pad=1, trainable=trainable, act='reLu', norm='batchnorm', name='deconv1')  # 14*14\n",
    "        Eout = conv(Eout, is_training, kernel_w=4, stride=2, Cout=128, pad=1, trainable=trainable, act='reLu', norm='batchnorm', name='deconv2')  # 7*7\n",
    "        \n",
    "        posteriorMu = dense(Eout, is_training, trainable=trainable, Cout=Cout, act=None, norm=None, name='dense_mean')\n",
    "        posteriorSigma = dense(Eout, is_training, trainable=trainable, Cout=Cout, act=None, norm=None, name='dense_var')\n",
    "    return posteriorMu, posteriorSigma\n",
    "     \n",
    "def create_VAE_D(z, labels, is_training, Cout=1, trainable=True, reuse=False, networktype='vaeD'):\n",
    "    '''z : batchsize * latend_dim \n",
    "       labels: batchsize * num_classes\n",
    "        output: batchsize * 28 * 28 * 1'''\n",
    "    with tf.variable_scope(networktype, reuse=reuse):\n",
    "        z = tf.concat(axis=-1, values=[z, labels])\n",
    "        Gz = dense(z, is_training, Cout=4 * 4 * 256, act='reLu', norm='batchnorm', name='dense1')\n",
    "        Gz = tf.reshape(Gz, shape=[-1, 4, 4, 256])  # 4\n",
    "        Gz = deconv(Gz, is_training, kernel_w=5, stride=2, Cout=256, trainable=trainable, act='reLu', norm='batchnorm', name='deconv1')  # 11\n",
    "        Gz = deconv(Gz, is_training, kernel_w=5, stride=2, Cout=128, trainable=trainable, act='reLu', norm='batchnorm', name='deconv2')  # 25\n",
    "        Gz = deconv(Gz, is_training, kernel_w=4, stride=Cout, Cout=1, act=None, norm=None, name='deconv3')  # 28\n",
    "        Gz = tf.nn.sigmoid(Gz)\n",
    "    return Gz\n",
    "\n",
    "def create_vae_trainer(base_lr=1e-4, networktype='VAE', latendDim=100):\n",
    "    '''Train a Variational AutoEncoder'''\n",
    "    eps = 1e-5\n",
    "    \n",
    "    is_training = tf.placeholder(tf.bool, [], 'is_training')\n",
    "\n",
    "    inZ = tf.placeholder(tf.float32, [None, latendDim])\n",
    "    inL = tf.placeholder(tf.float32, [None, 10])\n",
    "    inX = tf.placeholder(tf.float32, [None, 28, 28, 1])\n",
    "\n",
    "    posteriorMu, posteriorSigma = create_VAE_E(inX, inL, is_training, Cout=latendDim, trainable=True, reuse=False, networktype=networktype + '_vaeE') \n",
    "    \n",
    "    Z = posteriorSigma * inZ + posteriorMu\n",
    "    Xrec = create_VAE_D(Z, inL, is_training, trainable=True, reuse=False, networktype=networktype + '_vaeD')\n",
    "    Xrec_test = create_VAE_D(inZ, inL, is_training, trainable=True, reuse=True, networktype=networktype + '_vaeD')\n",
    "    \n",
    "    # E[log P(X|z)]\n",
    "    reconstruction_loss = tf.reduce_sum((inX -1.0) * tf.log(1.0 - Xrec + eps) - inX * tf.log(Xrec + eps), reduction_indices = [1,2,3])\n",
    "    # D_KL(Q(z|X) || P(z|X))\n",
    "    KL_QZ = 0.5 * tf.reduce_sum( tf.exp(posteriorSigma) + tf.square(posteriorMu) - 1 - posteriorSigma, reduction_indices = 1) \n",
    "    \n",
    "    total_loss = tf.reduce_mean( reconstruction_loss + KL_QZ)  \n",
    "    \n",
    "    vaetrain = tf.train.AdamOptimizer(learning_rate=base_lr, beta1=0.9).minimize(total_loss)\n",
    "\n",
    "    return vaetrain, total_loss, is_training, inZ, inX, inL, Xrec, Xrec_test, posteriorMu"
   ]
  },
  {
   "cell_type": "markdown",
   "metadata": {},
   "source": [
    "# Training VAE\n",
    "You can either get the trained models from [my google drive](https://goo.gl/7PrKD2) or train your own models using the VAE.py script"
   ]
  },
  {
   "cell_type": "markdown",
   "metadata": {},
   "source": [
    "## Evolution of approximate posterior and likelihood during training with 2D latent space\n",
    "\n",
    "Here we will keep the latent dimension to only 2 due to visualization matters but basicaly there is an optimum dimensionality in in the latent space which is bigger than 2."
   ]
  },
  {
   "cell_type": "code",
   "execution_count": 13,
   "metadata": {},
   "outputs": [
    {
     "name": "stdout",
     "output_type": "stream",
     "text": [
      "Extracting ../data//cVAE_MNIST\\train-images-idx3-ubyte.gz\n",
      "Extracting ../data//cVAE_MNIST\\train-labels-idx1-ubyte.gz\n",
      "Extracting ../data//cVAE_MNIST\\t10k-images-idx3-ubyte.gz\n",
      "Extracting ../data//cVAE_MNIST\\t10k-labels-idx1-ubyte.gz\n",
      "Trainset size: 55000 Testset_size: 10000\n",
      "Extracting ../data//cVAE_MNIST\\train-images-idx3-ubyte.gz\n",
      "Extracting ../data//cVAE_MNIST\\train-labels-idx1-ubyte.gz\n",
      "Extracting ../data//cVAE_MNIST\\t10k-images-idx3-ubyte.gz\n",
      "Extracting ../data//cVAE_MNIST\\t10k-labels-idx1-ubyte.gz\n",
      "Trainset size: 55000 Testset_size: 10000\n"
     ]
    }
   ],
   "source": [
    "batch_size = 128\n",
    "base_lr = 1e-5\n",
    "epochs = 50\n",
    "latendDim = 2\n",
    "spl = 200 #sample_per_label\n",
    "\n",
    "data, max_iter, test_iter, test_int, disp_int = get_train_params(data_dir + '/' + networktype, batch_size, epochs=epochs,one_hot=False, test_in_each_epoch=1, networktype=networktype)\n",
    "all_test_set, all_labels = data.test.next_batch(data.test.num_examples)\n",
    "\n",
    "Xtest = np.zeros([spl*10, 28,28,1])\n",
    "Xlabel = np.zeros([spl*10, 1])\n",
    "for num in range(10):\n",
    "    Xtest[spl*num:spl*num+spl,:] = all_test_set[np.where(all_labels==num)[0]][0:spl]\n",
    "    Xlabel[spl*num:spl*num+spl,:] = num\n",
    "Xlabel_onehot = OneHot(Xlabel.astype(np.int32))\n",
    "Z_test = np.random.normal(size=[spl*10, latendDim], loc=0.0, scale=1.).astype(np.float32)\n",
    "\n",
    "num_colors = ['C0.','C1.','C2.','C3.','C4.','C5.','C6.','C7.','C8.','C9.']\n",
    "\n",
    "data, max_iter, test_iter, test_int, disp_int = get_train_params(data_dir + '/' + networktype, batch_size, epochs=epochs, test_in_each_epoch=1, networktype=networktype)"
   ]
  },
  {
   "cell_type": "code",
   "execution_count": 14,
   "metadata": {
    "scrolled": true
   },
   "outputs": [
    {
     "name": "stdout",
     "output_type": "stream",
     "text": [
      "-- It. 0000 Best Results yet.[loss = inf] saving results...\n",
      "-- It. 21400 Best Results yet.[loss = 126.38848] saving results...\n"
     ]
    }
   ],
   "source": [
    "tf.reset_default_graph() \n",
    "with tf.Session() as sess:\n",
    "    vaetrain, total_loss, is_training, inZ, inX, inL, Xrec,Xrec_test, Qmu = create_vae_trainer(base_lr, networktype=networktype, latendDim=latendDim)\n",
    "    tf.global_variables_initializer().run()\n",
    "    \n",
    "    var_list = [var for var in tf.get_collection(tf.GraphKeys.GLOBAL_VARIABLES) if (networktype.lower() in var.name.lower()) and ('adam' not in var.name.lower())]  \n",
    "    saver = tf.train.Saver(var_list=var_list, max_to_keep=100)\n",
    "\n",
    "    test_int = 10\n",
    "    best_test_loss = np.inf \n",
    "\n",
    "    images = []\n",
    "\n",
    "    for it in range(max_iter): \n",
    "        Z = np.random.normal(size=[batch_size, latendDim], loc=0.0, scale=1.).astype(np.float32)\n",
    "\n",
    "        if it == 2 or it % test_int == 0:\n",
    "            accumulated_loss = 0.0 \n",
    "            for i_test in range(test_iter):\n",
    "                X, labels = data.test.next_batch(batch_size)\n",
    "                recloss = sess.run(total_loss, feed_dict={inX:X, inL:labels, inZ: Z, is_training:False})\n",
    "                accumulated_loss = np.add(accumulated_loss, recloss)\n",
    "\n",
    "            cur_test_loss = np.divide(accumulated_loss, test_iter)\n",
    "            if cur_test_loss < best_test_loss:\n",
    "                best_test_loss = cur_test_loss\n",
    "                if it % (30*test_int) == 0:saver.save(sess, work_dir + \"%.3d_model.ckpt\" % it)\n",
    "                [Qmu_cur,Xrec_cur] = sess.run([Qmu,Xrec], feed_dict={inX: Xtest, inL:Xlabel_onehot, inZ: Z_test, is_training:False})\n",
    "                fname = work_dir+ 'Iter_%d.jpg'%it\n",
    "                fig = plt.figure(figsize=(10,5))\n",
    "                fig.suptitle('Iter. #%d, Test_loss = %1.5f'%(it,best_test_loss))\n",
    "                likelihood = np.zeros([100, 28, 28, 1])\n",
    "                for num in range(10):\n",
    "                    ax1 = fig.add_subplot(121)\n",
    "                    ax1.plot(Qmu_cur[np.where(Xlabel==num)[0],0],Qmu_cur[np.where(Xlabel==num)[0],1],num_colors[num], label='%d'%num)\n",
    "                    likelihood[np.arange(0,100,10)+num] = Xrec_cur[np.where(Xlabel==num)[0][:10]]\n",
    "                ax1.legend(loc='upper right', bbox_to_anchor=(1.1, 1.05), ncol=1, fancybox=True, shadow=True)\n",
    "                ax1.set_xlabel('Latent Dimension #1');ax1.set_ylabel('Latent Dimension #2')\n",
    "                ax1.set_ylim([-7,7]);ax1.set_xlim([-7,7])\n",
    "\n",
    "                ax2 = fig.add_subplot(122)\n",
    "                ax2.imshow(vis_square(likelihood, [10, 10]), cmap='gray')\n",
    "                ax2.set_xticks([])\n",
    "                ax2.set_yticks([])\n",
    "\n",
    "                plt.savefig(fname)\n",
    "                plt.close()\n",
    "                images.append(imageio.imread(fname))\n",
    "\n",
    "\n",
    "        if it % (disp_int*100) == 0:print('-- It. %0.4d Best Results yet.[loss = %2.5f] saving results...' % (it,best_test_loss))\n",
    "\n",
    "        X, labels = data.train.next_batch(batch_size)\n",
    "        recloss, _ = sess.run([total_loss, vaetrain], feed_dict={inX:X, inL:labels, inZ: Z, is_training:True})\n",
    "\n",
    "    imageio.mimsave(work_dir+'posterior_likelihood_evolution.gif', images)"
   ]
  },
  {
   "cell_type": "code",
   "execution_count": 15,
   "metadata": {},
   "outputs": [
    {
     "data": {
      "text/html": [
       "<img src=\"../trained_models/cVAE_MNIST/posterior_likelihood_evolution.gif\"/>"
      ],
      "text/plain": [
       "<IPython.core.display.Image object>"
      ]
     },
     "metadata": {},
     "output_type": "display_data"
    }
   ],
   "source": [
    "display(Image(url=work_dir+'posterior_likelihood_evolution.gif'))"
   ]
  },
  {
   "cell_type": "markdown",
   "metadata": {},
   "source": [
    "Visulization of a Convolutional Variational Auto-Encoder with 2D latent space Z during training on MNIST dataset (handwritten digits). The Image to the right is the mean of the approximate posterior Q(z|X) and each color represents a class of digits within the dataset. Image to the left shows samples from the likelihood P(X|z) as a way to visualize the predictive prior. The title above shows the iteration number and total loss of the model at the point that images below were produced from the model under training. What we observe is the by the time the generated outputs (left image) get better, the points in the posterior also get into better seperated clusters."
   ]
  },
  {
   "cell_type": "markdown",
   "metadata": {},
   "source": [
    "# Experiments\n",
    "Create demo networks and restore weights"
   ]
  },
  {
   "cell_type": "code",
   "execution_count": 17,
   "metadata": {},
   "outputs": [
    {
     "data": {
      "image/jpeg": "[encoded data removed]",
      "text/plain": [
       "<IPython.core.display.Image object>"
      ]
     },
     "execution_count": 17,
     "metadata": {},
     "output_type": "execute_result"
    }
   ],
   "source": [
    "best_iter = 23166 # least cost\n",
    "best_img = work_dir + 'Iter_%d.jpg' %best_iter\n",
    "best_model = work_dir + \"%.3d_model.ckpt\" % best_iter\n",
    "Image(filename=best_img)"
   ]
  },
  {
   "cell_type": "code",
   "execution_count": 18,
   "metadata": {},
   "outputs": [
    {
     "name": "stdout",
     "output_type": "stream",
     "text": [
      "INFO:tensorflow:Restoring parameters from ../trained_models/cVAE_MNIST/23166_model.ckpt\n"
     ]
    }
   ],
   "source": [
    "latendDim = 2 # of the best model trained\n",
    "batch_size = 128\n",
    "\n",
    "tf.reset_default_graph() \n",
    "demo_sess = tf.InteractiveSession()\n",
    "\n",
    "is_training = tf.placeholder(tf.bool, [], 'is_training')\n",
    "\n",
    "inZ = tf.placeholder(tf.float32, [None, latendDim])\n",
    "inL = tf.placeholder(tf.float32, [None, 10])\n",
    "\n",
    "Xrec = create_VAE_D(inZ, inL, is_training, trainable=True, reuse=False, networktype=networktype + '_vaeD')\n",
    "\n",
    "tf.global_variables_initializer().run()\n",
    "\n",
    "var_list = tf.get_collection(tf.GraphKeys.GLOBAL_VARIABLES, scope=networktype + '_vaeD')\n",
    "saver = tf.train.Saver(var_list=var_list)\n",
    "saver.restore(demo_sess, best_model)"
   ]
  },
  {
   "cell_type": "markdown",
   "metadata": {},
   "source": [
    "### Generate new data\n",
    "Approximate samples from the posterior distribution over the latent variables p(z|x)"
   ]
  },
  {
   "cell_type": "code",
   "execution_count": 19,
   "metadata": {},
   "outputs": [
    {
     "data": {
      "image/jpeg": "[encoded data removed]",
      "text/plain": [
       "<IPython.core.display.Image object>"
      ]
     },
     "execution_count": 19,
     "metadata": {},
     "output_type": "execute_result"
    }
   ],
   "source": [
    "Z_test = np.random.normal(size=[batch_size, latendDim], loc=0.0, scale=1.).astype(np.float32)\n",
    "labels_test = OneHot(np.random.randint(10, size=[batch_size]), n=10)    \n",
    "\n",
    "vaeD_sample = demo_sess.run(Xrec, feed_dict={inL:labels_test, inZ: Z_test , is_training:False})\n",
    "vis_square(vaeD_sample[:121], [11, 11], save_path=work_dir + 'sample.jpg')\n",
    "Image(filename=work_dir + 'sample.jpg')"
   ]
  },
  {
   "cell_type": "markdown",
   "metadata": {},
   "source": [
    "### 3) Class Sweep\n",
    "With the same z slowly move the class labels to smoothly generate different numbers"
   ]
  },
  {
   "cell_type": "code",
   "execution_count": 21,
   "metadata": {},
   "outputs": [
    {
     "data": {
      "text/html": [
       "<img src=\"../trained_models/cVAE_MNIST/class_sweep/class_sweep.gif\"/>"
      ],
      "text/plain": [
       "<IPython.core.display.Image object>"
      ]
     },
     "metadata": {},
     "output_type": "display_data"
    }
   ],
   "source": [
    "class_sweep_dir = work_dir+'class_sweep/'\n",
    "if not os.path.exists(class_sweep_dir): os.makedirs(class_sweep_dir)\n",
    "\n",
    "batch_size = 100\n",
    "\n",
    "Z_test = np.random.normal(size=[batch_size, latendDim], loc=0.0, scale=1.).astype(np.float32)\n",
    "labels_test = OneHot(np.repeat([[0,0,0,0,0,0,0,0,0,0]],batch_size//10,axis=0))\n",
    "\n",
    "images = []\n",
    "for num in range(9):\n",
    "    for p in np.linspace(1.,0.,30):\n",
    "        count=len(images)\n",
    "        fname = class_sweep_dir+ 'sweep_temp.jpg'\n",
    "\n",
    "        for i in range(batch_size): \n",
    "            labels_test[i,num] = p; labels_test[i,num+1] = 1-p\n",
    "\n",
    "        Gz_sample = demo_sess.run(Xrec, feed_dict={inZ: Z_test, inL: labels_test, is_training:False})\n",
    "        img = vis_square(Gz_sample, [10, 10],save_path= fname)\n",
    "        images.append(imageio.imread(fname))\n",
    "        try: os.remove(fname)\n",
    "        except: pass\n",
    "        \n",
    "imageio.mimsave(class_sweep_dir+'class_sweep.gif', images)\n",
    "display(Image(url=class_sweep_dir+'class_sweep.gif'))"
   ]
  },
  {
   "cell_type": "markdown",
   "metadata": {},
   "source": [
    "### 3) Z-space Sweep\n",
    "Vary a coefficient alpha that determines how much of two different Z values are used to sample from the generator.\n",
    "This is also called interpolation in z space in the original paper."
   ]
  },
  {
   "cell_type": "code",
   "execution_count": 23,
   "metadata": {},
   "outputs": [
    {
     "data": {
      "text/html": [
       "<img src=\"../trained_models/cVAE_MNIST/zspace_sweep/zspace_sweep.gif\"/>"
      ],
      "text/plain": [
       "<IPython.core.display.Image object>"
      ]
     },
     "metadata": {},
     "output_type": "display_data"
    }
   ],
   "source": [
    "zspace_sweep_dir = work_dir+'zspace_sweep/'\n",
    "if not os.path.exists(zspace_sweep_dir): os.makedirs(zspace_sweep_dir)\n",
    "batch_size = 100\n",
    "\n",
    "Z1 = np.random.normal(size=[batch_size, latendDim], loc=0.0, scale=1.).astype(np.float32)\n",
    "Z2 = np.random.normal(size=[batch_size, latendDim], loc=0.0, scale=1.).astype(np.float32)\n",
    "\n",
    "images = []\n",
    "for alpha in np.linspace(1.,0.,50):\n",
    "    count=len(images)\n",
    "    fname = zspace_sweep_dir+'%.2d.jpg'%(count)\n",
    "    \n",
    "    Z_test = alpha * Z1 + (1-alpha)*Z2\n",
    "    labels_test = OneHot(np.repeat([[0,1,2,3,4,5,6,7,8,9]],batch_size//10,axis=0))\n",
    "    \n",
    "    Gz_sample = demo_sess.run(Xrec, feed_dict={inZ: Z_test, inL: labels_test, is_training:False})\n",
    "    img = vis_square(Gz_sample, [batch_size//10, 10],save_path=fname)\n",
    "    images.append(imageio.imread(fname))\n",
    "    try: os.remove(fname)\n",
    "    except: pass\n",
    "    \n",
    "imageio.mimsave(zspace_sweep_dir+'zspace_sweep.gif', images)\n",
    "display(Image(url=zspace_sweep_dir+'zspace_sweep.gif'))"
   ]
  }
 ],
 "metadata": {
  "anaconda-cloud": {},
  "kernelspec": {
   "display_name": "Python [conda root]",
   "language": "python",
   "name": "conda-root-py"
  },
  "language_info": {
   "codemirror_mode": {
    "name": "ipython",
    "version": 3
   },
   "file_extension": ".py",
   "mimetype": "text/x-python",
   "name": "python",
   "nbconvert_exporter": "python",
   "pygments_lexer": "ipython3",
   "version": "3.5.3"
  },
  "varInspector": {
   "cols": {
    "lenName": 16,
    "lenType": 16,
    "lenVar": 40
   },
   "kernels_config": {
    "python": {
     "delete_cmd_postfix": "",
     "delete_cmd_prefix": "del ",
     "library": "var_list.py",
     "varRefreshCmd": "print(var_dic_list())"
    },
    "r": {
     "delete_cmd_postfix": ") ",
     "delete_cmd_prefix": "rm(",
     "library": "var_list.r",
     "varRefreshCmd": "cat(var_dic_list()) "
    }
   },
   "types_to_exclude": [
    "module",
    "function",
    "builtin_function_or_method",
    "instance",
    "_Feature"
   ],
   "window_display": false
  }
 },
 "nbformat": 4,
 "nbformat_minor": 2
}
